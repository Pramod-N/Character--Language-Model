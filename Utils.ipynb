{
 "cells": [
  {
   "cell_type": "code",
   "execution_count": 1,
   "id": "9e5fbbfb",
   "metadata": {},
   "outputs": [],
   "source": [
    "import numpy as np"
   ]
  },
  {
   "cell_type": "code",
   "execution_count": 2,
   "id": "5a4ec58e",
   "metadata": {},
   "outputs": [],
   "source": [
    "def get_sample(sample_ix, ix_to_char):\n",
    "    txt = ''.join(ix_to_char[ix] for ix in sample_ix)\n",
    "    txt = txt[0].upper() + txt[1:]   \n",
    "    return txt"
   ]
  },
  {
   "cell_type": "markdown",
   "id": "5bc32e8e",
   "metadata": {},
   "source": [
    "### Softmax Activation function"
   ]
  },
  {
   "cell_type": "code",
   "execution_count": 3,
   "id": "2cd404f1",
   "metadata": {},
   "outputs": [],
   "source": [
    "def softmax(x):\n",
    "    e_x = np.exp(x - max(x))\n",
    "    return (e_x / e_x.sum(axis=0))"
   ]
  },
  {
   "cell_type": "markdown",
   "id": "99e6626b",
   "metadata": {},
   "source": [
    "### Paramter Initialization"
   ]
  },
  {
   "cell_type": "code",
   "execution_count": 4,
   "id": "937d4f8a",
   "metadata": {},
   "outputs": [],
   "source": [
    "def initialize_parameters(n_a, n_x, n_y):\n",
    "    \"\"\"\n",
    "    Initialize the parameters required in RNN(Waa,Wax,Wya,by,b). \n",
    "    Weights - Waa,Wax,Wya - Randomly initialize the following weights and multiply it by 0.01 to avoid wide range of values\n",
    "    Bias - by,b - initialize it to 0\n",
    "    \"\"\"\n",
    "    Wax = np.random.randn(n_a, n_x)*0.01 \n",
    "    Waa = np.random.randn(n_a, n_a)*0.01 \n",
    "    Wya = np.random.randn(n_y, n_a)*0.01 \n",
    "    b = np.zeros((n_a, 1)) \n",
    "    by = np.zeros((n_y, 1)) \n",
    "    \n",
    "    parameters = {\"Wax\": Wax, \"Waa\": Waa, \"Wya\": Wya, \"b\": b,\"by\": by}\n",
    "    \n",
    "    return parameters"
   ]
  },
  {
   "cell_type": "markdown",
   "id": "0758c022",
   "metadata": {},
   "source": [
    "## RNN "
   ]
  },
  {
   "cell_type": "markdown",
   "id": "df009a86",
   "metadata": {},
   "source": [
    "### RNN Forward Propagation"
   ]
  },
  {
   "cell_type": "code",
   "execution_count": 5,
   "id": "6afe1f27",
   "metadata": {},
   "outputs": [],
   "source": [
    "#Perform one step forward(One RNN cell) for time step t\n",
    "def rnn_step_forward(parameters, a_prev, x):\n",
    "    \"\"\"\n",
    "    Retrieve the weights and bias parameters and calculate the a_next and y_pred for time step t\n",
    "    \"\"\"\n",
    "    Waa,Wya,Wax,b,by = parameters[\"Waa\"],parameters[\"Wya\"],parameters[\"Wax\"],parameters[\"b\"],parameters[\"by\"]\n",
    "    a_next = np.tanh(np.dot(Wax,x) + np.dot(Waa,a_prev) + b)\n",
    "    y_pred = softmax(np.dot(Wya,a_next) + by)\n",
    "    \n",
    "    return a_next,y_pred"
   ]
  },
  {
   "cell_type": "code",
   "execution_count": 6,
   "id": "48462083",
   "metadata": {},
   "outputs": [],
   "source": [
    "def rnn_forward(X,Y,a0,parameters,vocab_size = 27):\n",
    "    #store the one-hot encoded vector,prediction and activations in dictionary\n",
    "    x,y_hat,a = {},{},{}\n",
    "    \n",
    "    #initialize loss and initial activation(a0)\n",
    "    loss = 0\n",
    "    a[-1] = a0\n",
    "    \n",
    "    for t in range(len(X)):\n",
    "        #create one hot encoded vector\n",
    "        x[t] = np.zeros((vocab_size,1))\n",
    "        \n",
    "        if(X[t] != None):\n",
    "            x[t][X[t]] = 1\n",
    "            \n",
    "        #perform one step forward for time step t\n",
    "        a[t],y_hat[t] = rnn_step_forward(parameters, a[t-1], x[t])\n",
    "        \n",
    "        # calculate loss\n",
    "        loss -= np.log(y_hat[t][Y[t],0])\n",
    "    \n",
    "    #store the predt,activation and one hot vector in a cache for use during the back propagation\n",
    "    cache = (y_hat, a, x)\n",
    "        \n",
    "    return loss, cache"
   ]
  },
  {
   "cell_type": "markdown",
   "id": "2e2f126c",
   "metadata": {},
   "source": [
    "### RNN Backward Propagation"
   ]
  },
  {
   "cell_type": "code",
   "execution_count": 7,
   "id": "9917f241",
   "metadata": {},
   "outputs": [],
   "source": [
    "#Perform one step backward propagation for a timestamp t\n",
    "def rnn_step_backward(dy, gradients, parameters, x, a, a_prev):\n",
    "    \"\"\"\n",
    "    calculate the gradients by deriving with respect to cost function.\n",
    "    \"\"\"\n",
    "    gradients[\"dWya\"] += np.dot(dy,a.T)\n",
    "    gradients[\"dby\"] += dy\n",
    "    \n",
    "    da = np.dot(parameters['Wya'].T, dy) + gradients['da_next'] \n",
    "    \n",
    "    # backprop through tanh nonlinearity\n",
    "    daraw = (1 - a * a) * da \n",
    "    \n",
    "    gradients['db'] += daraw\n",
    "    gradients['dWax'] += np.dot(daraw, x.T)\n",
    "    gradients['dWaa'] += np.dot(daraw, a_prev.T)\n",
    "    gradients['da_next'] = np.dot(parameters['Waa'].T, daraw)\n",
    "    \n",
    "    return gradients"
   ]
  },
  {
   "cell_type": "code",
   "execution_count": 8,
   "id": "57e93e22",
   "metadata": {},
   "outputs": [],
   "source": [
    "#Backward Propagation\n",
    "def rnn_backward(X, Y, parameters, cache):\n",
    "    \"\"\"\n",
    "    Perform backward propagation \n",
    "    \"\"\"\n",
    "    gradients = {}\n",
    "    \n",
    "    (y_hat,a,x) = cache\n",
    "    \n",
    "    Waa, Wax, Wya, by, b = parameters['Waa'], parameters['Wax'], parameters['Wya'], parameters['by'], parameters['b']\n",
    "    \n",
    "    #Initialize the gradients\n",
    "    gradients[\"dWaa\"],gradients[\"dWax\"],gradients[\"dWya\"] = np.zeros_like(Waa),np.zeros_like(Wax),np.zeros_like(Wya)\n",
    "    gradients[\"dby\"],gradients[\"db\"] = np.zeros_like(by),np.zeros_like(b)\n",
    "    gradients['da_next'] = np.zeros_like(a[0])\n",
    "    \n",
    "    #Loop through time step in reversed manner\n",
    "    for t in reversed(range(len(X))):\n",
    "        dy = np.copy(y_hat[t])\n",
    "        dy[Y[t]] -= 1\n",
    "        gradients = rnn_step_backward(dy, gradients, parameters, x[t], a[t], a[t-1])\n",
    "        \n",
    "    \n",
    "    return gradients, a"
   ]
  },
  {
   "cell_type": "markdown",
   "id": "92f24a40",
   "metadata": {},
   "source": [
    "### Update Parameters"
   ]
  },
  {
   "cell_type": "code",
   "execution_count": 10,
   "id": "377cec27",
   "metadata": {},
   "outputs": [],
   "source": [
    "def update_parameters(parameters, gradients, lr):\n",
    "    \"\"\"\n",
    "    Update the parameters using learning rate and gradients calculated in backward propagation\n",
    "    \"\"\"\n",
    "    parameters['Wax'] += -lr * gradients['dWax']\n",
    "    parameters['Waa'] += -lr * gradients['dWaa']\n",
    "    parameters['Wya'] += -lr * gradients['dWya']\n",
    "    parameters['b']  += -lr * gradients['db']\n",
    "    parameters['by']  += -lr * gradients['dby']\n",
    "    \n",
    "    return parameters"
   ]
  }
 ],
 "metadata": {
  "kernelspec": {
   "display_name": "Python 3",
   "language": "python",
   "name": "python3"
  },
  "language_info": {
   "codemirror_mode": {
    "name": "ipython",
    "version": 3
   },
   "file_extension": ".py",
   "mimetype": "text/x-python",
   "name": "python",
   "nbconvert_exporter": "python",
   "pygments_lexer": "ipython3",
   "version": "3.8.8"
  }
 },
 "nbformat": 4,
 "nbformat_minor": 5
}
